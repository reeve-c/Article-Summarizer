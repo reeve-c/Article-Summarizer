{
 "cells": [
  {
   "cell_type": "markdown",
   "metadata": {},
   "source": [
    "<br>\n",
    "<font color='cyan'><font size=\"5\">1. Importing Necessary Libraries</font>\n",
    "<br><br>"
   ]
  },
  {
   "cell_type": "code",
   "execution_count": 1,
   "metadata": {},
   "outputs": [],
   "source": [
    "from transformers import pipeline\n",
    "from bs4 import BeautifulSoup\n",
    "import requests"
   ]
  },
  {
   "cell_type": "markdown",
   "metadata": {},
   "source": [
    "<br>\n",
    "<font color='cyan'><font size=\"5\">2. Loading the Summarization Pipeline</font>\n",
    "<br><br>"
   ]
  },
  {
   "cell_type": "code",
   "execution_count": 2,
   "metadata": {
    "scrolled": true
   },
   "outputs": [
    {
     "name": "stderr",
     "output_type": "stream",
     "text": [
      "No model was supplied, defaulted to sshleifer/distilbart-cnn-12-6 and revision a4f8f3e (https://huggingface.co/sshleifer/distilbart-cnn-12-6).\n",
      "Using a pipeline without specifying a model name and revision in production is not recommended.\n"
     ]
    }
   ],
   "source": [
    "summarizer = pipeline(\"summarization\")"
   ]
  },
  {
   "cell_type": "markdown",
   "metadata": {},
   "source": [
    "<br>\n",
    "<font color='cyan'><font size=\"5\">3. Web Scraping using Beautiful Soup</font>\n",
    "<br><br>"
   ]
  },
  {
   "cell_type": "code",
   "execution_count": 3,
   "metadata": {},
   "outputs": [],
   "source": [
    "# Defining the URL of the Article to Summarize\n",
    "URL = \"https://www.slashfilm.com/783792/wait-is-the-batman-the-best-batman-movie/\"\n",
    "\n",
    "# We will setup our request\n",
    "r = requests.get(URL)\n",
    "\n",
    "# Next, we will use Beautiful Soup to web scrape the article\n",
    "soup = BeautifulSoup(r.text, 'html.parser')\n",
    "\n",
    "# Extracting all the titles and subtitles along with their coressponding paragraphs\n",
    "results = soup.find_all(['h1', 'p'])\n",
    "\n",
    "# Joiing all the necessary text without all the HTML Tags \n",
    "text = [result.text for result in results]\n",
    "\n",
    "# Extracting title of the Article\n",
    "title = text[0]\n",
    "\n",
    "# Combining all the sentences into a single paragraph\n",
    "article = ' '.join(text)"
   ]
  },
  {
   "cell_type": "markdown",
   "metadata": {},
   "source": [
    "<br>\n",
    "<font color='cyan'><font size=\"5\">4. Chunking</font>\n",
    "<br><br>"
   ]
  },
  {
   "cell_type": "code",
   "execution_count": 4,
   "metadata": {
    "scrolled": false
   },
   "outputs": [],
   "source": [
    "# We will replace all the punctuations with an End of Sentece Tag (<eos>) in order to preserve\n",
    "# them in our summary.\n",
    "article = article.replace('.', '.<eos>')\n",
    "article = article.replace('?', '?<eos>')\n",
    "article = article.replace('!', '!<eos>')\n",
    "sentences = article.split('<eos>')"
   ]
  },
  {
   "cell_type": "code",
   "execution_count": 5,
   "metadata": {},
   "outputs": [],
   "source": [
    "# We will define the maximum chunk size and corresponding parameters\n",
    "chunk_limit = 500\n",
    "current_chunk = 0 \n",
    "chunks = []\n",
    "\n",
    "# We will loop through each one of our senteces\n",
    "for sentence in sentences:\n",
    "    # Firstly, we will check if we have a current chunk\n",
    "    if chunks: \n",
    "        # Next, we will check if appending the current sentence crosses the chunk limit or not\n",
    "        if len(chunks[current_chunk]) + len(sentence.split(' ')) <= chunk_limit:\n",
    "            # If it doesn't, we append it\n",
    "            chunks[current_chunk].extend(sentence.split(' '))\n",
    "        else:\n",
    "            # If it does, we create a new chunk\n",
    "            current_chunk += 1\n",
    "            chunks.append(sentence.split(' '))\n",
    "    else:\n",
    "        chunks.append(sentence.split(' '))\n",
    "\n",
    "# Now, we will append all the individual words in a chunk to create a paragraph \n",
    "for chunk_index in range(len(chunks)):\n",
    "    chunks[chunk_index] = ' '.join(chunks[chunk_index])"
   ]
  },
  {
   "cell_type": "markdown",
   "metadata": {},
   "source": [
    "<br>\n",
    "<font color='cyan'><font size=\"5\">5. Summarization using Hugging Face</font>\n",
    "<br><br>"
   ]
  },
  {
   "cell_type": "code",
   "execution_count": 6,
   "metadata": {
    "scrolled": true
   },
   "outputs": [],
   "source": [
    "# We will use the Hugging Face Summarizer to summarize our article\n",
    "res = summarizer(chunks, max_length = 150, min_length = 50, do_sample=False)"
   ]
  },
  {
   "cell_type": "markdown",
   "metadata": {},
   "source": [
    "<br>\n",
    "<font color='cyan'><font size=\"5\">6. The Result</font>\n",
    "<br><br>"
   ]
  },
  {
   "cell_type": "code",
   "execution_count": 7,
   "metadata": {},
   "outputs": [],
   "source": [
    "# Now, We will combine our summary into a single block of text\n",
    "summary = ''.join([summ['summary_text'] for summ in res])"
   ]
  },
  {
   "cell_type": "code",
   "execution_count": 8,
   "metadata": {
    "scrolled": true
   },
   "outputs": [
    {
     "name": "stdout",
     "output_type": "stream",
     "text": [
      "Wait, Is The Batman The Best Batman Movie?\n",
      "\n",
      " Michael Keaton has always been my Batman, because, despite my enjoyment of the Adam West TV series, by the time that film came out, I really got Batman . I may not love the films (and I have no issue with anyone who did), but I got the world-weary Batfleck . From the first images and trailers for \"The Batman,\" it seemed like we were getting \"emo Batman,\" and while that sounded fun, that isn't at all what we have here . A dark avenger (sorry Marvel) is an archetype that we can find in any culture and it speaks to us on a very deep level . Robert Pattinson isn't playing emo.  He's dealing with intense PTSD, as so many of us do.  It's something most adults can relate to.  I think the decision to take this out of the Snyder continuity was an important one . Matt Reeves' \"The Batman\" gives us a hero who needs to take down criminals . He can trap a gang in a subway and pummel the hell out of them with no remorse . Film and storytelling at its best is a vehicle for us to vent the anger, rage, frustration, and horror we feel right now . This is no traditional comic book villain, spinning riddles and doing silly things . This is Joker-level villainy at its darkest . \"The Batman\" speaks to the terror we're all feeling right now, and also gives us a gritty crime drama that is both thought-provoking and cathartic . \"The Batman\" is the best Batman for the times we're living in . Keaton and the subsequent fun Batman films were simple and entertaining . The \"Dark Knight\" films were darker because the world was.  The Batfleck films were a fantasy world where superheroes could come and save us .\n"
     ]
    }
   ],
   "source": [
    "# Finally, we will print the title of the article along with its summary\n",
    "title += ('\\n\\n' + summary)\n",
    "print(title)"
   ]
  },
  {
   "cell_type": "code",
   "execution_count": 9,
   "metadata": {},
   "outputs": [],
   "source": [
    "# Saving the File\n",
    "with open('article_summary.txt', 'w') as f:\n",
    "    f.write(title)"
   ]
  }
 ],
 "metadata": {
  "kernelspec": {
   "display_name": "Python 3 (ipykernel)",
   "language": "python",
   "name": "python3"
  },
  "language_info": {
   "codemirror_mode": {
    "name": "ipython",
    "version": 3
   },
   "file_extension": ".py",
   "mimetype": "text/x-python",
   "name": "python",
   "nbconvert_exporter": "python",
   "pygments_lexer": "ipython3",
   "version": "3.8.11"
  }
 },
 "nbformat": 4,
 "nbformat_minor": 2
}
